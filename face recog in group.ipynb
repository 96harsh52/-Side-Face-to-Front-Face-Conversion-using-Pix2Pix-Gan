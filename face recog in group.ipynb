{
 "cells": [
  {
   "cell_type": "code",
   "execution_count": 1,
   "metadata": {},
   "outputs": [],
   "source": [
    "import face_recognition\n",
    "import cv2\n",
    "import os\n",
    "from tqdm import tqdm\n",
    "import glob"
   ]
  },
  {
   "cell_type": "code",
   "execution_count": 2,
   "metadata": {},
   "outputs": [
    {
     "data": {
      "text/plain": [
       "['./CropCset/Ganesh sir',\n",
       " './CropCset/Shankar P',\n",
       " './CropCset/Namrata mam',\n",
       " './CropCset/Virendra D',\n",
       " './CropCset/Anish',\n",
       " './CropCset/Prateek',\n",
       " './CropCset/Nidhi',\n",
       " './CropCset/Rajat',\n",
       " './CropCset/Kathan',\n",
       " './CropCset/Rishab',\n",
       " './CropCset/Abhishek Tomar',\n",
       " './CropCset/Pallavi',\n",
       " './CropCset/Harsh',\n",
       " './CropCset/Neha',\n",
       " './CropCset/Hitesh',\n",
       " './CropCset/Khusboo',\n",
       " './CropCset/Kathan Nagar',\n",
       " './CropCset/Aditya',\n",
       " './CropCset/Chahat',\n",
       " './CropCset/Abhishek Akkewar']"
      ]
     },
     "execution_count": 2,
     "metadata": {},
     "output_type": "execute_result"
    }
   ],
   "source": [
    "d = './CropCset'\n",
    "lst = [os.path.join(d, o) for o in os.listdir(d) \n",
    "                    if os.path.isdir(os.path.join(d,o))]\n",
    "\n",
    "\n",
    "lst"
   ]
  },
  {
   "cell_type": "code",
   "execution_count": 5,
   "metadata": {},
   "outputs": [
    {
     "name": "stderr",
     "output_type": "stream",
     "text": [
      "  5%|▌         | 1/20 [00:00<00:03,  5.67it/s]"
     ]
    },
    {
     "name": "stdout",
     "output_type": "stream",
     "text": [
      "./CropCset/Ganesh sir/Ganesh sir_01.jpg\n",
      "[0.75335694]\n",
      "Both are different person\n",
      "./CropCset/Shankar P/Shankar P_01.jpg\n"
     ]
    },
    {
     "name": "stderr",
     "output_type": "stream",
     "text": [
      " 15%|█▌        | 3/20 [00:00<00:03,  5.54it/s]"
     ]
    },
    {
     "name": "stdout",
     "output_type": "stream",
     "text": [
      "[0.75335694]\n",
      "Both are different person\n",
      "./CropCset/Namrata mam/Namrata mam_01.jpg\n",
      "[0.75335694]\n",
      "Both are same person\n",
      "./CropCset/Virendra D/Virendra D_01.jpg\n"
     ]
    },
    {
     "name": "stderr",
     "output_type": "stream",
     "text": [
      "\r",
      " 25%|██▌       | 5/20 [00:00<00:02,  6.10it/s]"
     ]
    },
    {
     "name": "stdout",
     "output_type": "stream",
     "text": [
      "please provide a human image \n",
      "./CropCset/Anish/Anish_01.jpg\n",
      "[0.75335694]\n",
      "Both are different person\n",
      "./CropCset/Prateek/Prateek_01.jpg\n"
     ]
    },
    {
     "name": "stderr",
     "output_type": "stream",
     "text": [
      " 35%|███▌      | 7/20 [00:01<00:02,  5.73it/s]"
     ]
    },
    {
     "name": "stdout",
     "output_type": "stream",
     "text": [
      "[0.75335694]\n",
      "Both are different person\n",
      "./CropCset/Nidhi/Nidhi_01.jpg\n",
      "[0.75335694]\n",
      "Both are different person\n",
      "./CropCset/Rajat/Rajat_01.jpg\n"
     ]
    },
    {
     "name": "stderr",
     "output_type": "stream",
     "text": [
      " 45%|████▌     | 9/20 [00:01<00:01,  5.56it/s]"
     ]
    },
    {
     "name": "stdout",
     "output_type": "stream",
     "text": [
      "[0.75335694]\n",
      "Both are different person\n",
      "./CropCset/Kathan/Kathan_01.jpg\n",
      "[0.75335694]\n",
      "Both are different person\n",
      "./CropCset/Rishab/Rishab_01.jpg\n"
     ]
    },
    {
     "name": "stderr",
     "output_type": "stream",
     "text": [
      " 55%|█████▌    | 11/20 [00:01<00:01,  5.49it/s]"
     ]
    },
    {
     "name": "stdout",
     "output_type": "stream",
     "text": [
      "[0.75335694]\n",
      "Both are different person\n",
      "./CropCset/Abhishek Tomar/Abhishek Tomar_01.jpg\n",
      "[0.75335694]\n",
      "Both are different person\n",
      "./CropCset/Pallavi/Pallavi_01.jpg\n"
     ]
    },
    {
     "name": "stderr",
     "output_type": "stream",
     "text": [
      "\r",
      " 60%|██████    | 12/20 [00:02<00:01,  5.41it/s]"
     ]
    },
    {
     "name": "stdout",
     "output_type": "stream",
     "text": [
      "[0.75335694]\n",
      "Both are different person\n",
      "./CropCset/Harsh/Harsh_01.jpg\n"
     ]
    },
    {
     "name": "stderr",
     "output_type": "stream",
     "text": [
      " 70%|███████   | 14/20 [00:02<00:01,  5.12it/s]"
     ]
    },
    {
     "name": "stdout",
     "output_type": "stream",
     "text": [
      "[0.75335694]\n",
      "Both are different person\n",
      "./CropCset/Neha/Neha_01.jpg\n",
      "[0.75335694]\n",
      "Both are same person\n",
      "./CropCset/Hitesh/Hitesh_01.jpg\n"
     ]
    },
    {
     "name": "stderr",
     "output_type": "stream",
     "text": [
      " 80%|████████  | 16/20 [00:02<00:00,  4.94it/s]"
     ]
    },
    {
     "name": "stdout",
     "output_type": "stream",
     "text": [
      "[0.75335694]\n",
      "Both are different person\n",
      "./CropCset/Khusboo/Khusboo_01.jpg\n",
      "[0.75335694]\n",
      "Both are different person\n",
      "./CropCset/Kathan Nagar/Kathan Nagar_01.jpg\n"
     ]
    },
    {
     "name": "stderr",
     "output_type": "stream",
     "text": [
      " 90%|█████████ | 18/20 [00:03<00:00,  5.12it/s]"
     ]
    },
    {
     "name": "stdout",
     "output_type": "stream",
     "text": [
      "[0.75335694]\n",
      "Both are different person\n",
      "./CropCset/Aditya/Aditya_01.jpg\n",
      "[0.75335694]\n",
      "Both are different person\n",
      "./CropCset/Chahat/Chahat_01.jpg\n"
     ]
    },
    {
     "name": "stderr",
     "output_type": "stream",
     "text": [
      "100%|██████████| 20/20 [00:03<00:00,  5.43it/s]"
     ]
    },
    {
     "name": "stdout",
     "output_type": "stream",
     "text": [
      "[0.75335694]\n",
      "Both are different person\n",
      "./CropCset/Abhishek Akkewar/Abhishek Akkewar_01.jpg\n",
      "[0.75335694]\n",
      "Both are different person\n",
      "{'Namrata mam': array([0.75335694]), 'Neha': array([0.75335694])}\n",
      "\n",
      "True\n",
      "this is an unknown person\n"
     ]
    },
    {
     "name": "stderr",
     "output_type": "stream",
     "text": [
      "\n"
     ]
    }
   ],
   "source": [
    "final=[]\n",
    "finaln=[]\n",
    "dic={}\n",
    "for path in tqdm(lst):\n",
    "    path1 = path +\"/side/*.jpg\"\n",
    "    folder = path.split('/')[-1]\n",
    "    tgtpath = path+\"/\"+folder+\"_01.jpg\"\n",
    "    #print(tgtpath)\n",
    "    for file in glob.glob(tgtpath):\n",
    "        print (file)\n",
    "        #a= cv2.imread(file)\n",
    "        #a= cv2.resize(a, (256,256), interpolation = cv2.INTER_AREA)\n",
    "        try: \n",
    "\n",
    "            known_image = face_recognition.load_image_file(tgtpath)\n",
    "            unknown_image = face_recognition.load_image_file(\"/home/dai/Desktop/face reg/CropCset/Namrata mam/Namrata mam_01.jpg\")\n",
    "#             unknown_image = face_recognition.load_image_file(\"srk.jpeg\")\n",
    "            known_image = cv2.cvtColor(known_image, cv2.COLOR_RGB2BGR)\n",
    "    #         cv2.imshow('ImageWindow', known_image)\n",
    "    #         cv2.waitKey()\n",
    "            unknown_image = cv2.cvtColor(unknown_image, cv2.COLOR_RGB2BGR)\n",
    "    #         cv2.imshow('ImageWindow', known_image)\n",
    "    #         cv2.waitKey()\n",
    "            known_encoding = face_recognition.face_encodings(known_image)[0]\n",
    "            unknown_encoding = face_recognition.face_encodings(unknown_image)[0]\n",
    "            results = face_recognition.compare_faces([known_encoding], unknown_encoding,  tolerance=0.5)\n",
    "\n",
    "            print(distance)\n",
    "            if (results==[True]):\n",
    "                #if(distance!=[0.]):\n",
    "                    #continue\n",
    "                    final.append(distance)\n",
    "                    finaln.append(folder)  \n",
    "                    print(\"Both are same person\")\n",
    "\n",
    "            elif (results==[False]):\n",
    "                pass\n",
    "                print(\"Both are different person\")\n",
    "            known_encoding=0\n",
    "            \n",
    "        except IndexError: \n",
    "                print (\"please provide a human image \")\n",
    "\n",
    "dic = dict(zip(finaln, final)) \n",
    "print(dic)\n",
    "print()\n",
    "print(bool(dic))\n",
    "if (bool(dic)==True):\n",
    "    key_min=min(dic, key=dic.get)\n",
    "    value=dic[key_min]\n",
    "    if (value<0.5):\n",
    "        print(\"the person is\",key_min)\n",
    "    else :\n",
    "        print(\"this is an unknown person\")\n",
    "    \n",
    "else :\n",
    "    print(\"this is an unknown person\")"
   ]
  },
  {
   "cell_type": "code",
   "execution_count": null,
   "metadata": {},
   "outputs": [],
   "source": []
  }
 ],
 "metadata": {
  "kernelspec": {
   "display_name": "Python 3",
   "language": "python",
   "name": "python3"
  },
  "language_info": {
   "codemirror_mode": {
    "name": "ipython",
    "version": 3
   },
   "file_extension": ".py",
   "mimetype": "text/x-python",
   "name": "python",
   "nbconvert_exporter": "python",
   "pygments_lexer": "ipython3",
   "version": "3.7.4"
  }
 },
 "nbformat": 4,
 "nbformat_minor": 2
}
